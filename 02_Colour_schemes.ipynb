{
 "cells": [
  {
   "cell_type": "markdown",
   "id": "5b5f96dd-1220-47cb-b54b-a1d9e4725506",
   "metadata": {},
   "source": [
    "# 02 Customise OWS colour schemes"
   ]
  },
  {
   "cell_type": "markdown",
   "id": "4b6ceed8-d5fd-4423-9e17-1017b9ab2688",
   "metadata": {},
   "source": [
    "This notebook details how to:\n",
    "\n",
    "* Choose a colour scheme, including some useful websites\n",
    "* Test for accessibility\n",
    "* Convert a colour scheme into hex codes\n",
    "* Add hex codes to an OWS colour style"
   ]
  },
  {
   "cell_type": "markdown",
   "id": "1542f999-67bb-41fa-a502-1cf46fc50330",
   "metadata": {},
   "source": [
    "## 2.1 Choose a colour scheme"
   ]
  },
  {
   "cell_type": "markdown",
   "id": "cba13414-484f-4367-bdb9-d018ffe7b7f1",
   "metadata": {},
   "source": [
    "**What is my data about?**\n",
    "\n",
    "The two most common types of data in DE Africa are:\n",
    "\n",
    "* Sequential: One end of the scale represents more of something, the other represents less - i.e. rainfall, slope, frequency of water observations\n",
    "* Diverging: On either sides of a particular threshold, the values imply different states - i.e. NDVI, MNDWI, most normalised indices\n",
    "\n",
    "Colour maps are likewise sequential or diverging so pick one that suits. \n",
    "\n",
    "**What do people think your data is about?**\n",
    "\n",
    "* Blue implies water, be careful using it on datasets tangentially related or unrelated to water\n",
    "* Green implies vegetation\n",
    "\n",
    "**Accessibility**\n",
    "\n",
    "* Choose colour schemes which are colour-vision impaired friendly\n",
    "* Perceptually-uniform colour schemes represent data better\n",
    "* The DE Africa Map has both light and dark background scheme settings, which show very light or very dark colours (for instance, at either ends of a scale) quite differently\n"
   ]
  },
  {
   "cell_type": "markdown",
   "id": "d14d36cb-5ca4-4df1-ac64-bc438e0ffa67",
   "metadata": {},
   "source": [
    "**Where can I find colour palettes / packages?**\n",
    "\n",
    "Matplotlib has several in-built colour maps which are accessibility-friendly and perceptually uniform. Read more about colourmaps on the [Matplotlib docs](https://matplotlib.org/stable/tutorials/colors/colormaps.html), including why the default is no longer `jet` but `viridis`. `viridis` itself is [well-documented](https://cran.r-project.org/web/packages/viridis/vignettes/intro-to-viridis.html).\n",
    "\n",
    "For a simple colour map picker use:\n",
    "\n",
    "* [Colorbrewer](https://colorbrewer2.org/)\n",
    "\n",
    "Other recommended sites include:\n",
    "\n",
    "* [cmocean](https://matplotlib.org/cmocean/)\n",
    "* [seaborn](https://seaborn.pydata.org/tutorial/color_palettes.html)\n",
    "* [Fabio Crameri colour maps](https://www.fabiocrameri.ch/colourmaps/)\n",
    "\n",
    "**Avoid**\n",
    "\n",
    "* Avoid red-to-green colour schemes as deuteranopia (green colourblindness) is one of the most common colour vision deficiencies\n",
    "* Avoid rainbow colour schemes (unless they are particularly suitable to the data). One example of circular colour map use is for tidal phase data where the direction of the tides goes from 0 to 360 degrees. However, not all colour maps are made equal - look to `turbo` or `cmocean.phase` rather than `jet`\n",
    "\n",
    "**Check**\n",
    "\n",
    "* What colour schemes the other DE Africa Map datasets are using\n",
    "* How you can make existing imagery more accessible"
   ]
  },
  {
   "cell_type": "markdown",
   "id": "204cc0a5-c994-43a4-9761-5b736efb4afe",
   "metadata": {},
   "source": [
    "## 2.2 Test for accessibility\n",
    "\n",
    "Check your selected colour map or final image on a colour-blindness simulator such as [Coblis](https://www.color-blindness.com/coblis-color-blindness-simulator/).\n",
    "\n",
    "Check how the NDVI map from the previous notebook shows up under deuteranopia conditions!"
   ]
  },
  {
   "cell_type": "markdown",
   "id": "73b133ff-4a7b-49b4-92ba-8b9d8a5a837b",
   "metadata": {},
   "source": [
    "## 2.3 Colourmap to hex codes\n",
    "\n",
    "OWS colour ramps use discrete hex colour codes and interpolates bewteen them. Most matplotlib and seaborn colour schemes are continuous colour maps, so you will need to convert them into a series of hex codes. The number of hex codes depends on how many intervals your colour ramp has. This is normally >5.\n",
    "\n",
    "**Matplotlib**: To turn them into discrete hexcodes, we can use the following code from [StackOverflow](https://stackoverflow.com/questions/33596491/extract-matplotlib-colormap-in-hex-format)."
   ]
  },
  {
   "cell_type": "code",
   "execution_count": 2,
   "id": "7dc41f72-ba10-4272-8cf8-52389f9b46f8",
   "metadata": {
    "tags": []
   },
   "outputs": [
    {
     "name": "stdout",
     "output_type": "stream",
     "text": [
      "#00224e\n",
      "#213b6e\n",
      "#4c556c\n",
      "#6c6e72\n",
      "#8e8978\n",
      "#b1a570\n",
      "#d9c55c\n",
      "#fee838\n"
     ]
    }
   ],
   "source": [
    "from pylab import *\n",
    "\n",
    "cmap = cm.get_cmap('cividis', 8)  # name of palette, number of discrete colours\n",
    "\n",
    "for i in range(cmap.N):\n",
    "    rgba = cmap(i)\n",
    "    # rgb2hex accepts rgb or rgba\n",
    "    print(matplotlib.colors.rgb2hex(rgba))"
   ]
  },
  {
   "cell_type": "code",
   "execution_count": 3,
   "id": "9b12db4a-ee2c-441a-a889-35f547020630",
   "metadata": {
    "tags": []
   },
   "outputs": [
    {
     "data": {
      "image/png": "[encoded data removed]",
      "text/html": [
       "<div style=\"vertical-align: middle;\"><strong>cividis</strong> </div><div class=\"cmap\"><img alt=\"cividis colormap\" title=\"cividis\" style=\"border: 1px solid #555;\" src=\"data:image/png;base64,iVBORw0KGgoAAAANSUhEUgAAAgAAAABACAYAAABsv8+/AAAAFnRFWHRUaXRsZQBjaXZpZGlzIGNvbG9ybWFwKZ9KmAAAABx0RVh0RGVzY3JpcHRpb24AY2l2aWRpcyBjb2xvcm1hcI6x++EAAAAwdEVYdEF1dGhvcgBNYXRwbG90bGliIHYzLjQuMywgaHR0cHM6Ly9tYXRwbG90bGliLm9yZwld89MAAAAydEVYdFNvZnR3YXJlAE1hdHBsb3RsaWIgdjMuNC4zLCBodHRwczovL21hdHBsb3RsaWIub3JnJ/ts9AAAAV1JREFUeJzt1rFtAgEUREEgoIeTToIzIAJqof+EDtyAI0wX/ODNVLCbvf3u5/m/C9uWbXrCqMfynp4w6rwcpyeM2tb2/+v6Nz1h1P30Oz1h1O3ymp4w6jA9AAD4PgEAAEECAACCBAAABAkAAAgSAAAQJAAAIEgAAECQAACAIAEAAEECAACCBAAABAkAAAgSAAAQJAAAIEgAAECQAACAIAEAAEECAACCBAAABAkAAAgSAAAQJAAAIEgAAECQAACAIAEAAEECAACCBAAABAkAAAgSAAAQJAAAIEgAAECQAACAIAEAAEECAACCBAAABAkAAAgSAAAQJAAAIEgAAECQAACAIAEAAEECAACCBAAABAkAAAgSAAAQJAAAIEgAAECQAACAIAEAAEECAACCBAAABAkAAAgSAAAQJAAAIEgAAECQAACAIAEAAEECAACCBAAABAkAAAgSAAAQJAAAIOgDvJYHmgRYiqoAAAAASUVORK5CYII=\"></div><div style=\"vertical-align: middle; max-width: 514px; display: flex; justify-content: space-between;\"><div style=\"float: left;\"><div title=\"#00224eff\" style=\"display: inline-block; width: 1em; height: 1em; margin: 0; vertical-align: middle; border: 1px solid #555; background-color: #00224eff;\"></div> under</div><div style=\"margin: 0 auto; display: inline-block;\">bad <div title=\"#00000000\" style=\"display: inline-block; width: 1em; height: 1em; margin: 0; vertical-align: middle; border: 1px solid #555; background-color: #00000000;\"></div></div><div style=\"float: right;\">over <div title=\"#fee838ff\" style=\"display: inline-block; width: 1em; height: 1em; margin: 0; vertical-align: middle; border: 1px solid #555; background-color: #fee838ff;\"></div></div>"
      ],
      "text/plain": [
       "<matplotlib.colors.ListedColormap at 0x7f76314029a0>"
      ]
     },
     "execution_count": 3,
     "metadata": {},
     "output_type": "execute_result"
    }
   ],
   "source": [
    "cmap"
   ]
  },
  {
   "cell_type": "markdown",
   "id": "28fd3af1-7de9-4d61-9eeb-325b661c98fd",
   "metadata": {},
   "source": [
    "**Seaborn**: has its own in-built palette visualiser. The first input is the name of the palette; the second, the number of discrete colours."
   ]
  },
  {
   "cell_type": "code",
   "execution_count": 5,
   "id": "7e444e18-c372-4f44-b6c3-0babcdfbdc37",
   "metadata": {},
   "outputs": [
    {
     "data": {
      "text/html": [
       "<svg  width=\"715\" height=\"55\"><rect x=\"0\" y=\"0\" width=\"55\" height=\"55\" style=\"fill:#1e111f;stroke-width:2;stroke:rgb(255,255,255)\"/><rect x=\"55\" y=\"0\" width=\"55\" height=\"55\" style=\"fill:#2e1e3b;stroke-width:2;stroke:rgb(255,255,255)\"/><rect x=\"110\" y=\"0\" width=\"55\" height=\"55\" style=\"fill:#3a2c59;stroke-width:2;stroke:rgb(255,255,255)\"/><rect x=\"165\" y=\"0\" width=\"55\" height=\"55\" style=\"fill:#413d7b;stroke-width:2;stroke:rgb(255,255,255)\"/><rect x=\"220\" y=\"0\" width=\"55\" height=\"55\" style=\"fill:#3e5095;stroke-width:2;stroke:rgb(255,255,255)\"/><rect x=\"275\" y=\"0\" width=\"55\" height=\"55\" style=\"fill:#37659e;stroke-width:2;stroke:rgb(255,255,255)\"/><rect x=\"330\" y=\"0\" width=\"55\" height=\"55\" style=\"fill:#357ba3;stroke-width:2;stroke:rgb(255,255,255)\"/><rect x=\"385\" y=\"0\" width=\"55\" height=\"55\" style=\"fill:#348fa7;stroke-width:2;stroke:rgb(255,255,255)\"/><rect x=\"440\" y=\"0\" width=\"55\" height=\"55\" style=\"fill:#36a3ab;stroke-width:2;stroke:rgb(255,255,255)\"/><rect x=\"495\" y=\"0\" width=\"55\" height=\"55\" style=\"fill:#40b7ad;stroke-width:2;stroke:rgb(255,255,255)\"/><rect x=\"550\" y=\"0\" width=\"55\" height=\"55\" style=\"fill:#59ccad;stroke-width:2;stroke:rgb(255,255,255)\"/><rect x=\"605\" y=\"0\" width=\"55\" height=\"55\" style=\"fill:#8bdab2;stroke-width:2;stroke:rgb(255,255,255)\"/><rect x=\"660\" y=\"0\" width=\"55\" height=\"55\" style=\"fill:#b9e6c7;stroke-width:2;stroke:rgb(255,255,255)\"/></svg>"
      ],
      "text/plain": [
       "[(0.11761516, 0.06824548, 0.12116393),\n",
       " (0.18195582, 0.11955283, 0.23136943),\n",
       " (0.22758415, 0.17419169, 0.35075983),\n",
       " (0.25307401, 0.23772973, 0.48316271),\n",
       " (0.24129828, 0.31286235, 0.58278615),\n",
       " (0.21607792, 0.39736958, 0.61948028),\n",
       " (0.20692679, 0.48201774, 0.63812656),\n",
       " (0.20344718, 0.56074869, 0.65649508),\n",
       " (0.21177544, 0.63965621, 0.67145005),\n",
       " (0.25187832, 0.71827158, 0.67872193),\n",
       " (0.34968889, 0.79827511, 0.67685638),\n",
       " (0.54578602, 0.8544913, 0.69848331),\n",
       " (0.72606665, 0.90374337, 0.7800041)]"
      ]
     },
     "execution_count": 5,
     "metadata": {},
     "output_type": "execute_result"
    }
   ],
   "source": [
    "import seaborn as sns\n",
    "\n",
    "seaborn_hex = sns.color_palette(\"mako\",13)\n",
    "seaborn_hex"
   ]
  },
  {
   "cell_type": "markdown",
   "id": "de8c2459-5a4a-40cd-825b-80ad036ae744",
   "metadata": {},
   "source": [
    "They can then be converted into hexcodes by printing `.as_hex()`."
   ]
  },
  {
   "cell_type": "code",
   "execution_count": 6,
   "id": "b01a6da7-705b-4574-8bd5-fb95c4a847d1",
   "metadata": {},
   "outputs": [
    {
     "name": "stdout",
     "output_type": "stream",
     "text": [
      "['#1e111f', '#2e1e3b', '#3a2c59', '#413d7b', '#3e5095', '#37659e', '#357ba3', '#348fa7', '#36a3ab', '#40b7ad', '#59ccad', '#8bdab2', '#b9e6c7']\n"
     ]
    }
   ],
   "source": [
    "print(seaborn_hex.as_hex())"
   ]
  },
  {
   "cell_type": "markdown",
   "id": "b2ee85c2-afbf-4b8d-82bc-9523d80bda42",
   "metadata": {},
   "source": [
    "## 2.4 Hex codes to OWS colour ramp"
   ]
  },
  {
   "cell_type": "markdown",
   "id": "7c86d6e6-51c3-4bd8-999b-aea01f8a63ed",
   "metadata": {},
   "source": [
    "OWS colour ramps are a list of dictionaries. They are independent of dataset, so you can apply a colour ramp to multiple datasets if they have the same data range."
   ]
  },
  {
   "cell_type": "markdown",
   "id": "f79e3ad8-7981-4673-a380-f2acafbc1123",
   "metadata": {},
   "source": [
    "**Example**: A yellow-green-blue colour ramp, originally made for MrVBF. \n",
    "\n",
    "MrVBF (part of `srtm_deriv`) is a sequential dataset that takes on integer values from 0 to 7 inclusive. For each value, a `\"color\"` key is also defined, followed by the colour hex code as a string. The optional `\"alpha\"` value can be used to make the lowest value transparent (for example WOfS \"never water\" areas are transparent). It has been commented out here.\n",
    "\n",
    "Even though this colour ramp was \"designed\" for MrVBF it can also successfully be applied to any MrRTF datasets, which also contains integer values from 0 to 7. \n",
    "\n",
    "It would not work on a Sentinel-2 Surface Reflectance dataset, because all those datasets take values from 1 to 10000. So almost every data point would be given the `#0c2c84` colour."
   ]
  },
  {
   "cell_type": "code",
   "execution_count": null,
   "id": "5a0c336a-e6ee-4974-a13b-2379de2d0505",
   "metadata": {},
   "outputs": [],
   "source": [
    "ylgnbu = [\n",
    "    {\"value\": 0, \"color\": \"#ffffd9\", #\"alpha\": 0.0\n",
    "    },\n",
    "    {\"value\": 1, \"color\": \"#edf8b1\"},\n",
    "    {\"value\": 2, \"color\": \"#c7e9b4\"},\n",
    "    {\"value\": 3, \"color\": \"#7fcdbb\"},\n",
    "    {\"value\": 4, \"color\": \"#41b6c4\"},\n",
    "    {\"value\": 5, \"color\": \"#1d91c0\"},\n",
    "    {\"value\": 6, \"color\": \"#225ea8\"},\n",
    "    {\"value\": 7, \"color\": \"#0c2c84\"}\n",
    "]"
   ]
  },
  {
   "cell_type": "markdown",
   "id": "86b3e758-dbdc-4414-9be1-17aed47289d0",
   "metadata": {},
   "source": [
    "**Example**: A blue colour ramp originally made for WOfS All-time.\n",
    "\n",
    "* OWS interpolates between specified values\n",
    "* The hex codes match the 13-interval `mako` palette shown above\n",
    "* Technically not perceptually uniform due to the staggered colours at the low end\n"
   ]
  },
  {
   "cell_type": "code",
   "execution_count": null,
   "id": "ed02e746-83a4-4cfc-8bea-21496110b2fe",
   "metadata": {},
   "outputs": [],
   "source": [
    "blues_frequency = [\n",
    "        {\"value\": 0.0, \"color\": \"#FFFFFF\", \"alpha\": 0.0},\n",
    "        {\"value\": 0.002, \"color\": \"#FFFFFF\", \"alpha\": 0.0},\n",
    "        {\"value\": 0.005, \"color\": '#b9e6c7', \"alpha\": 0.25},\n",
    "        {\"value\": 0.01, \"color\": '#8bdab2', \"alpha\": 0.75},\n",
    "        {\"value\": 0.02, \"color\": '#59ccad'},\n",
    "        {\"value\": 0.05, \"color\": '#40b7ad'},\n",
    "        {\"value\": 0.1, \"color\": '#36a3ab'},\n",
    "        {\"value\": 0.2, \"color\": '#348fa7'},\n",
    "        {\"value\": 0.3, \"color\": '#357aa2'},\n",
    "        {\"value\": 0.4, \"color\": '#37659e'},\n",
    "        {\"value\": 0.5, \"color\": '#3e5095'},\n",
    "        {\"value\": 0.6, \"color\": '#413d7b'},\n",
    "        {\"value\": 0.7, \"color\": '#3a2c59'},\n",
    "        {\"value\": 0.8, \"color\": '#2e1e3b'},\n",
    "        {\"value\": 0.9, \"color\": '#1e111f'},\n",
    "    ]"
   ]
  },
  {
   "cell_type": "markdown",
   "id": "4ddc5009-23ea-484c-a191-6bee9e5e911d",
   "metadata": {},
   "source": [
    "Now you can define multiple colour ramps, put them in styles, then plot them using `plot_image_with_style_cfg()`, as per the previous notebook."
   ]
  }
 ],
 "metadata": {
  "kernelspec": {
   "display_name": "Python 3 (ipykernel)",
   "language": "python",
   "name": "python3"
  },
  "language_info": {
   "codemirror_mode": {
    "name": "ipython",
    "version": 3
   },
   "file_extension": ".py",
   "mimetype": "text/x-python",
   "name": "python",
   "nbconvert_exporter": "python",
   "pygments_lexer": "ipython3",
   "version": "3.8.10"
  }
 },
 "nbformat": 4,
 "nbformat_minor": 5
}
